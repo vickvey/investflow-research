{
 "cells": [
  {
   "cell_type": "code",
   "execution_count": 3,
   "metadata": {},
   "outputs": [],
   "source": [
    "import pandas as pd\n",
    "\n",
    "df = pd.read_csv('/home/vivek/Desktop/INOP/data/Quote-Equity-JIOFIN-EQ-30-03-2024-to-30-03-2025.csv')"
   ]
  },
  {
   "cell_type": "code",
   "execution_count": 7,
   "metadata": {},
   "outputs": [
    {
     "name": "stdout",
     "output_type": "stream",
     "text": [
      "        date series   open    high     low  prev._close     ltp   close  \\\n",
      "0 2024-04-01     EQ  357.0  364.20  355.60       353.75  357.90  356.95   \n",
      "1 2024-04-02     EQ  359.0  362.85  356.50       356.95  357.95  357.10   \n",
      "2 2024-04-03     EQ  356.5  359.80  353.20       357.10  357.00  357.10   \n",
      "3 2024-04-04     EQ  359.4  367.80  358.00       357.10  362.20  361.30   \n",
      "4 2024-04-05     EQ  361.0  374.85  359.05       361.30  373.00  373.20   \n",
      "\n",
      "     vwap   52w_h   52w_l       volume               value no_of_trades  \n",
      "0  358.96  374.50  204.25  2,36,44,472   8,48,74,85,998.45     1,84,560  \n",
      "1  359.04  374.50  204.25  2,96,84,726  10,65,81,25,059.05     1,77,541  \n",
      "2  356.65  374.50  204.25  1,79,20,490   6,39,13,43,231.25     1,40,410  \n",
      "3  362.67  374.50  204.25  3,39,26,426  12,30,40,97,378.45     2,12,104  \n",
      "4  369.34  374.85  204.25  4,69,79,676  17,35,13,39,873.25     2,96,698  \n"
     ]
    }
   ],
   "source": [
    "# Strip extra spaces from column names\n",
    "df.columns = df.columns.str.strip().str.lower().str.replace(\" \", \"_\")\n",
    "\n",
    "# Convert 'date' to datetime format\n",
    "df['date'] = pd.to_datetime(df['date'])\n",
    "\n",
    "# Sort data by date\n",
    "df = df.sort_values(by=\"date\").reset_index(drop=True)\n",
    "\n",
    "# Display cleaned columns\n",
    "print(df.head())"
   ]
  },
  {
   "cell_type": "code",
   "execution_count": 9,
   "metadata": {},
   "outputs": [],
   "source": [
    "df['daily_return'] = df['close'].pct_change()"
   ]
  },
  {
   "cell_type": "code",
   "execution_count": 10,
   "metadata": {},
   "outputs": [
    {
     "name": "stdout",
     "output_type": "stream",
     "text": [
      "Expected Mean Return: -0.00160\n"
     ]
    }
   ],
   "source": [
    "expected_mean_return = df['daily_return'].mean()\n",
    "print(f\"Expected Mean Return: {expected_mean_return:.5f}\")\n"
   ]
  },
  {
   "cell_type": "code",
   "execution_count": 11,
   "metadata": {},
   "outputs": [
    {
     "name": "stdout",
     "output_type": "stream",
     "text": [
      "Stock Risk (Volatility): 0.02056\n"
     ]
    }
   ],
   "source": [
    "risk = df['daily_return'].std()\n",
    "print(f\"Stock Risk (Volatility): {risk:.5f}\")\n"
   ]
  },
  {
   "cell_type": "code",
   "execution_count": 12,
   "metadata": {},
   "outputs": [
    {
     "name": "stdout",
     "output_type": "stream",
     "text": [
      "Sharpe Ratio: -0.08776\n"
     ]
    }
   ],
   "source": [
    "risk_free_rate = 0.0002  # Assuming 5% annual return\n",
    "\n",
    "sharpe_ratio = (expected_mean_return - risk_free_rate) / risk\n",
    "print(f\"Sharpe Ratio: {sharpe_ratio:.5f}\")\n"
   ]
  },
  {
   "cell_type": "code",
   "execution_count": 13,
   "metadata": {},
   "outputs": [],
   "source": [
    "df['cumulative_return'] = (1 + df['daily_return']).cumprod()\n"
   ]
  },
  {
   "cell_type": "code",
   "execution_count": 14,
   "metadata": {},
   "outputs": [],
   "source": [
    "df['sma_50'] = df['close'].rolling(window=50).mean()\n",
    "df['sma_200'] = df['close'].rolling(window=200).mean()\n",
    "df['volatility_20'] = df['daily_return'].rolling(window=20).std()\n"
   ]
  },
  {
   "cell_type": "code",
   "execution_count": 15,
   "metadata": {},
   "outputs": [
    {
     "name": "stdout",
     "output_type": "stream",
     "text": [
      "Max Drawdown: -0.48210\n"
     ]
    }
   ],
   "source": [
    "df['rolling_max'] = df['close'].cummax()\n",
    "df['drawdown'] = df['close'] / df['rolling_max'] - 1\n",
    "max_drawdown = df['drawdown'].min()\n",
    "print(f\"Max Drawdown: {max_drawdown:.5f}\")\n"
   ]
  },
  {
   "cell_type": "code",
   "execution_count": 16,
   "metadata": {},
   "outputs": [],
   "source": [
    "import numpy as np\n",
    "\n",
    "def compute_rsi(data, window=14):\n",
    "    delta = data.diff()\n",
    "    gain = np.where(delta > 0, delta, 0)\n",
    "    loss = np.where(delta < 0, -delta, 0)\n",
    "\n",
    "    avg_gain = pd.Series(gain).rolling(window=window).mean()\n",
    "    avg_loss = pd.Series(loss).rolling(window=window).mean()\n",
    "    \n",
    "    rs = avg_gain / avg_loss\n",
    "    return 100 - (100 / (1 + rs))\n",
    "\n",
    "df['rsi_14'] = compute_rsi(df['close'])\n"
   ]
  },
  {
   "cell_type": "code",
   "execution_count": 17,
   "metadata": {},
   "outputs": [],
   "source": [
    "df['bollinger_upper'] = df['sma_50'] + 2 * df['volatility_20']\n",
    "df['bollinger_lower'] = df['sma_50'] - 2 * df['volatility_20']\n"
   ]
  },
  {
   "cell_type": "code",
   "execution_count": 19,
   "metadata": {},
   "outputs": [],
   "source": [
    "# # Load Nifty 50 index data\n",
    "# df_nifty = pd.read_csv(\"nifty50_data.csv\")\n",
    "# df_nifty.columns = df_nifty.columns.str.strip().str.lower().str.replace(\" \", \"_\")\n",
    "\n",
    "# # Merge stock and index data\n",
    "# df_merged = df.merge(df_nifty[['date', 'close']], on='date', suffixes=('', '_nifty'))\n",
    "\n",
    "# # Compute correlation (Beta)\n",
    "# beta = df_merged['daily_return'].corr(df_merged['close_nifty'].pct_change())\n",
    "# print(f\"Stock Beta: {beta:.5f}\")\n"
   ]
  },
  {
   "cell_type": "code",
   "execution_count": null,
   "metadata": {},
   "outputs": [],
   "source": []
  }
 ],
 "metadata": {
  "kernelspec": {
   "display_name": ".venv",
   "language": "python",
   "name": "python3"
  },
  "language_info": {
   "codemirror_mode": {
    "name": "ipython",
    "version": 3
   },
   "file_extension": ".py",
   "mimetype": "text/x-python",
   "name": "python",
   "nbconvert_exporter": "python",
   "pygments_lexer": "ipython3",
   "version": "3.12.3"
  }
 },
 "nbformat": 4,
 "nbformat_minor": 2
}
